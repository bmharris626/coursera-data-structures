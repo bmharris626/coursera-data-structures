{
 "cells": [
  {
   "cell_type": "code",
   "execution_count": 99,
   "metadata": {},
   "outputs": [],
   "source": [
    "def inOrderTraversal(tree, i, result, left):\n",
    "    if i == -1: return\n",
    "    inOrderTraversal(tree, tree[i][1], result, left)\n",
    "    result.append(tree[i][0])\n",
    "    left.append(tree[i][1])\n",
    "    inOrderTraversal(tree, tree[i][2], result, left)\n",
    "\n",
    "def IsBinarySearchTree(tree):\n",
    "    if len(tree) == 0: return True\n",
    "    result, left = list(), list()\n",
    "    inOrderTraversal(tree, 0, result, left)\n",
    "    print(tree, result, left, sep=\"\\n\")\n",
    "    for i in range(1, len(tree)):\n",
    "        if (result[i] < result[i-1]): return False\n",
    "        if (result[i] == result[i-1]) and (left[i] != -1): return False\n",
    "    return True"
   ]
  },
  {
   "cell_type": "code",
   "execution_count": 100,
   "metadata": {},
   "outputs": [
    {
     "name": "stdout",
     "output_type": "stream",
     "text": [
      "[[2, 1, 2], [1, -1, -1], [3, -1, -1]]\n",
      "[1, 2, 3]\n",
      "[-1, 1, -1]\n"
     ]
    },
    {
     "data": {
      "text/plain": [
       "True"
      ]
     },
     "execution_count": 100,
     "metadata": {},
     "output_type": "execute_result"
    }
   ],
   "source": [
    "# Correct\n",
    "IsBinarySearchTree([[2, 1, 2], [1, -1, -1], [3, -1, -1]])"
   ]
  },
  {
   "cell_type": "code",
   "execution_count": 101,
   "metadata": {},
   "outputs": [
    {
     "name": "stdout",
     "output_type": "stream",
     "text": [
      "[[1, 1, 2], [2, -1, -1], [3, -1, -1]]\n",
      "[2, 1, 3]\n",
      "[-1, 1, -1]\n"
     ]
    },
    {
     "data": {
      "text/plain": [
       "False"
      ]
     },
     "execution_count": 101,
     "metadata": {},
     "output_type": "execute_result"
    }
   ],
   "source": [
    "# Incorrect\n",
    "IsBinarySearchTree([[1, 1, 2], [2, -1, -1], [3, -1, -1]])"
   ]
  },
  {
   "cell_type": "code",
   "execution_count": 102,
   "metadata": {},
   "outputs": [
    {
     "name": "stdout",
     "output_type": "stream",
     "text": [
      "[[2, 1, 2], [1, -1, -1], [2, -1, -1]]\n",
      "[1, 2, 2]\n",
      "[-1, 1, -1]\n"
     ]
    },
    {
     "data": {
      "text/plain": [
       "True"
      ]
     },
     "execution_count": 102,
     "metadata": {},
     "output_type": "execute_result"
    }
   ],
   "source": [
    "# Correct\n",
    "IsBinarySearchTree([[2, 1, 2], [1, -1, -1], [2, -1, -1]])"
   ]
  },
  {
   "cell_type": "code",
   "execution_count": 103,
   "metadata": {},
   "outputs": [
    {
     "name": "stdout",
     "output_type": "stream",
     "text": [
      "[[10, 1, 2], [5, 3, 4], [13, 5, 6], [4, -1, -1], [10, 7, -1], [12, -1, -1], [17, -1, -1], [6, -1, -1]]\n",
      "[4, 5, 6, 10, 10, 12, 13, 17]\n",
      "[-1, 3, -1, 7, 1, -1, 5, -1]\n"
     ]
    },
    {
     "data": {
      "text/plain": [
       "False"
      ]
     },
     "execution_count": 103,
     "metadata": {},
     "output_type": "execute_result"
    }
   ],
   "source": [
    "# Incorrect\n",
    "IsBinarySearchTree([\n",
    "    [10, 1, 2], \n",
    "    [5, 3, 4],\n",
    "    [13, 5, 6],\n",
    "    [4, -1, -1],\n",
    "    [10, 7, -1],\n",
    "    [12, -1, -1],\n",
    "    [17, -1, -1],\n",
    "    [6, -1, -1]\n",
    "])"
   ]
  },
  {
   "cell_type": "code",
   "execution_count": 104,
   "metadata": {},
   "outputs": [
    {
     "name": "stdout",
     "output_type": "stream",
     "text": [
      "[[10, 1, 2], [5, 3, 4], [13, 5, 6], [4, -1, -1], [8, -1, -1], [10, -1, 7], [17, -1, -1], [11, -1, -1]]\n",
      "[4, 5, 8, 10, 10, 11, 13, 17]\n",
      "[-1, 3, -1, 1, -1, -1, 5, -1]\n"
     ]
    },
    {
     "data": {
      "text/plain": [
       "True"
      ]
     },
     "execution_count": 104,
     "metadata": {},
     "output_type": "execute_result"
    }
   ],
   "source": [
    "# Correct\n",
    "IsBinarySearchTree([\n",
    "    [10, 1, 2], \n",
    "    [5, 3, 4],\n",
    "    [13, 5, 6],\n",
    "    [4, -1, -1],\n",
    "    [8, -1, -1],\n",
    "    [10, -1, 7],\n",
    "    [17, -1, -1],\n",
    "    [11, -1, -1]\n",
    "])"
   ]
  },
  {
   "cell_type": "code",
   "execution_count": null,
   "metadata": {},
   "outputs": [],
   "source": []
  }
 ],
 "metadata": {
  "kernelspec": {
   "display_name": "Python 3",
   "language": "python",
   "name": "python3"
  },
  "language_info": {
   "codemirror_mode": {
    "name": "ipython",
    "version": 3
   },
   "file_extension": ".py",
   "mimetype": "text/x-python",
   "name": "python",
   "nbconvert_exporter": "python",
   "pygments_lexer": "ipython3",
   "version": "3.6.4"
  }
 },
 "nbformat": 4,
 "nbformat_minor": 2
}
