{
 "cells": [
  {
   "cell_type": "code",
   "execution_count": null,
   "metadata": {},
   "outputs": [],
   "source": [
    "# python3\n",
    "\n",
    "import sys\n",
    "\n",
    "n, m = map(int, sys.stdin.readline().split())\n",
    "lines = list(map(int, sys.stdin.readline().split()))\n",
    "rank = [1] * n\n",
    "parent = list(range(0, n))\n",
    "ans = max(lines)\n",
    "\n",
    "def getParent(table):\n",
    "    # find parent and compress path\n",
    "    return parent[table]\n",
    "\n",
    "def merge(destination, source):\n",
    "    realDestination, realSource = getParent(destination), getParent(source)\n",
    "\n",
    "    if realDestination == realSource:\n",
    "        return False\n",
    "\n",
    "    # merge two components\n",
    "    # use union by rank heuristic \n",
    "    # update ans with the new maximum table size\n",
    "    \n",
    "    return True\n",
    "\n",
    "for i in range(m):\n",
    "    destination, source = map(int, sys.stdin.readline().split())\n",
    "    merge(destination - 1, source - 1)\n",
    "    print(ans)"
   ]
  }
 ],
 "metadata": {
  "kernelspec": {
   "display_name": "Python [default]",
   "language": "python",
   "name": "python3"
  },
  "language_info": {
   "codemirror_mode": {
    "name": "ipython",
    "version": 3
   },
   "file_extension": ".py",
   "mimetype": "text/x-python",
   "name": "python",
   "nbconvert_exporter": "python",
   "pygments_lexer": "ipython3",
   "version": "3.5.4"
  }
 },
 "nbformat": 4,
 "nbformat_minor": 2
}
