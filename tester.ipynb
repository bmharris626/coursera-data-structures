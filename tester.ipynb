{
 "cells": [
  {
   "cell_type": "code",
   "execution_count": 180,
   "metadata": {
    "collapsed": true
   },
   "outputs": [],
   "source": [
    "class Node:\n",
    "    \n",
    "    def __init__(self, n):\n",
    "        self.n = n\n",
    "        self.children = list()\n",
    "        \n",
    "    def __call__(self):\n",
    "        print(self.n, self.children)\n",
    "    \n",
    "    def addChild(self, node):\n",
    "        self.children.append(node)\n",
    "\n",
    "class TreeHeight:\n",
    "    \n",
    "    def __init__(self, parent):\n",
    "        self.parent = parent\n",
    "        self.n = len(parent)\n",
    "\n",
    "    def compute_height_naive(self):\n",
    "        maxHeight = 0\n",
    "        for vertex in range(self.n):\n",
    "            height = 0\n",
    "            i = vertex\n",
    "            while i != -1:\n",
    "                height += 1\n",
    "                i = self.parent[i]\n",
    "            maxHeight = max(maxHeight, height)\n",
    "        return maxHeight\n",
    "    \n",
    "    def compute_height(self):\n",
    "        nodes = [Node(i) for i in range(self.n)]\n",
    "        for child_index in range(self.n):\n",
    "            parent_index = self.parent[child_index]\n",
    "            if parent_index == -1: self.root = child_index\n",
    "            else: nodes[parent_index].addChild(nodes[child_index])\n",
    "        return nodes"
   ]
  },
  {
   "cell_type": "code",
   "execution_count": 181,
   "metadata": {},
   "outputs": [],
   "source": [
    "tree = TreeHeight([9, 7, 5, 5, 2, 9, 9, 9, 2, -1])"
   ]
  },
  {
   "cell_type": "code",
   "execution_count": 182,
   "metadata": {},
   "outputs": [
    {
     "name": "stdout",
     "output_type": "stream",
     "text": [
      "Wall time: 0 ns\n"
     ]
    },
    {
     "data": {
      "text/plain": [
       "4"
      ]
     },
     "execution_count": 182,
     "metadata": {},
     "output_type": "execute_result"
    }
   ],
   "source": [
    "%time tree.compute_height_naive()"
   ]
  },
  {
   "cell_type": "code",
   "execution_count": 183,
   "metadata": {},
   "outputs": [
    {
     "name": "stdout",
     "output_type": "stream",
     "text": [
      "Wall time: 0 ns\n"
     ]
    }
   ],
   "source": [
    "%time x = tree.compute_height()"
   ]
  },
  {
   "cell_type": "code",
   "execution_count": 184,
   "metadata": {},
   "outputs": [
    {
     "name": "stdout",
     "output_type": "stream",
     "text": [
      "0 []\n",
      "1 []\n",
      "2 [<__main__.Node object at 0x000002575C706208>, <__main__.Node object at 0x000002575C706BE0>]\n",
      "3 []\n",
      "4 []\n",
      "5 [<__main__.Node object at 0x000002575C706240>, <__main__.Node object at 0x000002575C706DD8>]\n",
      "6 []\n",
      "7 [<__main__.Node object at 0x000002575C706390>]\n",
      "8 []\n",
      "9 [<__main__.Node object at 0x000002575C706630>, <__main__.Node object at 0x000002575C706550>, <__main__.Node object at 0x000002575C706588>, <__main__.Node object at 0x000002575C7067F0>]\n"
     ]
    }
   ],
   "source": [
    "for line in x: line()"
   ]
  },
  {
   "cell_type": "code",
   "execution_count": null,
   "metadata": {
    "collapsed": true
   },
   "outputs": [],
   "source": []
  }
 ],
 "metadata": {
  "kernelspec": {
   "display_name": "Python [default]",
   "language": "python",
   "name": "python3"
  },
  "language_info": {
   "codemirror_mode": {
    "name": "ipython",
    "version": 3
   },
   "file_extension": ".py",
   "mimetype": "text/x-python",
   "name": "python",
   "nbconvert_exporter": "python",
   "pygments_lexer": "ipython3",
   "version": "3.5.3"
  }
 },
 "nbformat": 4,
 "nbformat_minor": 2
}
