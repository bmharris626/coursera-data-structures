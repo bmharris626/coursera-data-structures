{
 "cells": [
  {
   "cell_type": "code",
   "execution_count": 3,
   "metadata": {},
   "outputs": [
    {
     "name": "stdout",
     "output_type": "stream",
     "text": [
      "5\n",
      "12\n",
      "add world\n",
      "add HellO\n",
      "check 4\n",
      "HellO world\n",
      "find World\n",
      "no\n",
      "find world\n",
      "yes\n",
      "del world\n",
      "check 4\n",
      "HellO\n",
      "add luck\n",
      "add GooD\n",
      "check 2\n",
      "GooD luck HellO\n",
      "del good\n",
      "del HellO\n"
     ]
    }
   ],
   "source": [
    "# python3\n",
    "\n",
    "class Query:\n",
    "\n",
    "    def __init__(self, query):\n",
    "        self.type = query[0]\n",
    "        if self.type == 'check': self.ind = int(query[1])\n",
    "        else: self.s = query[1]\n",
    "\n",
    "class QueryProcessor:\n",
    "    _multiplier = 263\n",
    "    _prime = 1000000007\n",
    "\n",
    "    def __init__(self, bucket_count):\n",
    "        self.bucket_count = bucket_count\n",
    "        # store all strings in one list\n",
    "        self.elems = [list()] * bucket_count\n",
    "\n",
    "    def _hash_func(self, s):\n",
    "        ans = 0\n",
    "        for c in reversed(s):\n",
    "            ans = (ans * self._multiplier + ord(c)) % self._prime\n",
    "        return ans % self.bucket_count\n",
    "\n",
    "    def read_query(self):\n",
    "        return Query(input().split())\n",
    "\n",
    "    def process_query(self, query):\n",
    "        if query.type == \"check\":\n",
    "            print(' '.join(self.elems[query.ind]))            \n",
    "        if query.type == \"add\":\n",
    "            hsh = self._hash_func(query.s)\n",
    "            not_exists = True\n",
    "            for i, elem in enumerate(self.elems[hsh]):\n",
    "                if elem == query.s:\n",
    "                    self.elems[hsh][i] = query.s\n",
    "                    not_exists = False\n",
    "                    break\n",
    "            if not_exists: self.elems[hsh].insert(0, query.s)\n",
    "        if query.type == \"del\":\n",
    "            hsh = self._hash_func(query.s)\n",
    "            for i, elem in enumerate(self.elems[hsh]):\n",
    "                if elem == query.s: \n",
    "                    self.elems[hsh].pop(i)\n",
    "                    break\n",
    "        if query.type == \"find\":\n",
    "            hsh = self._hash_func(query.s)\n",
    "            response = \"no\"\n",
    "            for elem in self.elems[hsh]:\n",
    "                if elem == query.s: \n",
    "                    response = \"yes\"\n",
    "                    break\n",
    "            print(response) \n",
    "\n",
    "    def process_queries(self):\n",
    "        n = int(input())\n",
    "        for i in range(n):\n",
    "            self.process_query(self.read_query())\n",
    "\n",
    "if __name__ == '__main__':\n",
    "    bucket_count = int(input())\n",
    "    proc = QueryProcessor(bucket_count)\n",
    "    proc.process_queries()"
   ]
  },
  {
   "cell_type": "code",
   "execution_count": null,
   "metadata": {},
   "outputs": [],
   "source": [
    "5\n",
    "12\n",
    "add world \n",
    "add HellO \n",
    "check 4 \n",
    "find World \n",
    "find world \n",
    "del world \n",
    "check 4 \n",
    "del HellO \n",
    "add luck \n",
    "add GooD \n",
    "check 2 \n",
    "del good"
   ]
  },
  {
   "cell_type": "code",
   "execution_count": null,
   "metadata": {},
   "outputs": [],
   "source": [
    "int(\"Mom\")"
   ]
  },
  {
   "cell_type": "code",
   "execution_count": null,
   "metadata": {},
   "outputs": [],
   "source": [
    "ord(\"Mom\")"
   ]
  },
  {
   "cell_type": "code",
   "execution_count": null,
   "metadata": {},
   "outputs": [],
   "source": []
  },
  {
   "cell_type": "code",
   "execution_count": null,
   "metadata": {
    "collapsed": true
   },
   "outputs": [],
   "source": []
  }
 ],
 "metadata": {
  "kernelspec": {
   "display_name": "Python 3",
   "language": "python",
   "name": "python3"
  },
  "language_info": {
   "codemirror_mode": {
    "name": "ipython",
    "version": 3
   },
   "file_extension": ".py",
   "mimetype": "text/x-python",
   "name": "python",
   "nbconvert_exporter": "python",
   "pygments_lexer": "ipython3",
   "version": "3.5.4"
  }
 },
 "nbformat": 4,
 "nbformat_minor": 2
}
