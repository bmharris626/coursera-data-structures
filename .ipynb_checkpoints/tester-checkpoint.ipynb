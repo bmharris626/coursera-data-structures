{
 "cells": [
  {
   "cell_type": "code",
   "execution_count": 48,
   "metadata": {},
   "outputs": [
    {
     "name": "stdout",
     "output_type": "stream",
     "text": [
      "5\n",
      "5 4 3 2 1\n",
      "[1, 2, 3, 5, 4]\n",
      "3\n",
      "1 4\n",
      "0 1\n",
      "1 3\n"
     ]
    }
   ],
   "source": [
    "class HeapBuilder:\n",
    "    \n",
    "    def __init__(self):\n",
    "        self._swaps = []\n",
    "        self._data = []\n",
    "\n",
    "    def ReadData(self):\n",
    "        self.n = int(input())\n",
    "        self._data = [int(s) for s in input().split()]\n",
    "        assert self.n == len(self._data)\n",
    "\n",
    "    def WriteResponse(self):\n",
    "        print(len(self._swaps))\n",
    "        for swap in self._swaps:\n",
    "            print(swap[0], swap[1])\n",
    "            \n",
    "    def GenerateSwaps(self):\n",
    "        q = Heap(self._data)\n",
    "        self._swaps = q.swaps\n",
    "\n",
    "    def Solve(self):\n",
    "        self.ReadData()\n",
    "        self.GenerateSwaps()\n",
    "        self.WriteResponse()\n",
    "\n",
    "if __name__ == '__main__':\n",
    "    heap_builder = HeapBuilder()\n",
    "    heap_builder.Solve()\n"
   ]
  },
  {
   "cell_type": "code",
   "execution_count": 47,
   "metadata": {},
   "outputs": [],
   "source": [
    "class Heap:\n",
    "    \n",
    "    def buildHeap(self):\n",
    "        for i in range(self.size//2, -1, -1):\n",
    "            self.siftDown(i)\n",
    "    \n",
    "    def __init__(self, array = list()):\n",
    "        self.h = array\n",
    "        self.size = len(array)\n",
    "        self.swaps = list()\n",
    "        self.buildHeap()\n",
    "            \n",
    "    def parent(self, i):\n",
    "        return (i-1)//2\n",
    "    \n",
    "    def leftChild(self, i):\n",
    "        return 2*i + 1\n",
    "    \n",
    "    def rightChild(self, i):\n",
    "        return 2*i + 2\n",
    "    \n",
    "    def siftUp(self, i):\n",
    "        while (i > 0) and (self.h[self.parent(i)] < self.h[i]):\n",
    "            self.h[self.parent(i)], self.h[i] = self.h[i], self.h[self.parent(i)]\n",
    "            i = self.parent(i)\n",
    "            \n",
    "    def siftDown(self, i):\n",
    "        maxIndex = i\n",
    "        l = self.leftChild(i)\n",
    "        if (l < self.size) and (self.h[l] < self.h[maxIndex]):\n",
    "            maxIndex = l\n",
    "        r = self.rightChild(i)\n",
    "        if (r < self.size) and (self.h[r] < self.h[maxIndex]):\n",
    "            maxIndex = r\n",
    "        if i != maxIndex:\n",
    "            self.h[i], self.h[maxIndex] = self.h[maxIndex], self.h[i]\n",
    "            self.swaps.append([i, maxIndex])\n",
    "            self.siftDown(maxIndex)\n",
    "            \n",
    "    def insert(self, p):\n",
    "        self.size += 1\n",
    "        self.h.append(p)\n",
    "        self.siftUp(self.size)\n",
    "        \n",
    "    def extractMax(self):\n",
    "        result = self.h[0]\n",
    "        self.size -= 1\n",
    "        h[0] = h[self.size]\n",
    "        siftDown(1)\n",
    "        return result"
   ]
  },
  {
   "cell_type": "code",
   "execution_count": 21,
   "metadata": {},
   "outputs": [],
   "source": [
    "# HeapSort(A[1 . . . n])\n",
    "#     BuildHeap(A) {size = n}\n",
    "#     repeat (n − 1) times:\n",
    "#     swap A[1] and A[size]\n",
    "#     size ← size − 1\n",
    "#     SiftDown(1)"
   ]
  },
  {
   "cell_type": "code",
   "execution_count": 24,
   "metadata": {},
   "outputs": [
    {
     "name": "stdout",
     "output_type": "stream",
     "text": [
      "2\n",
      "1\n",
      "0\n"
     ]
    },
    {
     "data": {
      "text/plain": [
       "[5, 4, 2, 1, 3]"
      ]
     },
     "execution_count": 24,
     "metadata": {},
     "output_type": "execute_result"
    }
   ],
   "source": [
    "Heap([4, 3, 2, 1, 5]).h"
   ]
  },
  {
   "cell_type": "code",
   "execution_count": null,
   "metadata": {},
   "outputs": [],
   "source": []
  }
 ],
 "metadata": {
  "kernelspec": {
   "display_name": "Python [default]",
   "language": "python",
   "name": "python3"
  },
  "language_info": {
   "codemirror_mode": {
    "name": "ipython",
    "version": 3
   },
   "file_extension": ".py",
   "mimetype": "text/x-python",
   "name": "python",
   "nbconvert_exporter": "python",
   "pygments_lexer": "ipython3",
   "version": "3.5.4"
  }
 },
 "nbformat": 4,
 "nbformat_minor": 2
}
