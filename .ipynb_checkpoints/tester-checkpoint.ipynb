{
 "cells": [
  {
   "cell_type": "code",
   "execution_count": 2,
   "metadata": {},
   "outputs": [
    {
     "name": "stdout",
     "output_type": "stream",
     "text": [
      "5\n",
      "5\n",
      "add GooD\n",
      "add luck\n",
      "del luck\n",
      "0\n",
      "del luck\n",
      "-1\n",
      "check 2\n",
      "GooD\n"
     ]
    }
   ],
   "source": [
    "# python3\n",
    "\n",
    "class Query:\n",
    "\n",
    "    def __init__(self, query):\n",
    "        self.type = query[0]\n",
    "        if self.type == 'check': self.ind = int(query[1])\n",
    "        else: self.s = query[1]\n",
    "\n",
    "class QueryProcessor:\n",
    "    _multiplier = 263\n",
    "    _prime = 1000000007\n",
    "\n",
    "    def __init__(self, bucket_count):\n",
    "        self.bucket_count = bucket_count\n",
    "        # store all strings in one list\n",
    "        self.elems = [list() for i in range(bucket_count)] \n",
    "\n",
    "    def _hash_func(self, s):\n",
    "        ans = 0\n",
    "        for c in reversed(s):\n",
    "            ans = (ans * self._multiplier + ord(c)) % self._prime\n",
    "        return ans % self.bucket_count\n",
    "\n",
    "    def read_query(self):\n",
    "        return Query(input().split())\n",
    "\n",
    "    def _has_key(self, O):\n",
    "        L = self.elems[self._hash_func(O)]\n",
    "        for v in L:\n",
    "            if v == O: return \"yes\"\n",
    "        return \"no\"\n",
    "    \n",
    "    def _get(self, O, L):\n",
    "        for i, v in enumerate(L):\n",
    "            if v == O: return i\n",
    "        return -1\n",
    "    \n",
    "    def _set(self, O):\n",
    "        L = self.elems[self._hash_func(O)]\n",
    "        for v in L:\n",
    "            if v == O: return\n",
    "        L.insert(0, O)\n",
    "    \n",
    "    def process_query(self, query):\n",
    "        if query.type == \"check\":\n",
    "            print(' '.join(self.elems[query.ind]))            \n",
    "        if query.type == \"add\":\n",
    "            self._set(query.s)\n",
    "        if query.type == \"del\":\n",
    "            L = self.elems[self._hash_func(query.s)]\n",
    "            if not L: return\n",
    "            i = self._get(query.s, L)\n",
    "            if i >= 0: L.pop(i)\n",
    "        if query.type == \"find\":\n",
    "            print(self._has_key(query.s))\n",
    "\n",
    "    def process_queries(self):\n",
    "        n = int(input())\n",
    "        for i in range(n):\n",
    "            self.process_query(self.read_query())\n",
    "\n",
    "if __name__ == '__main__':\n",
    "    bucket_count = int(input())\n",
    "    proc = QueryProcessor(bucket_count)\n",
    "    proc.process_queries()"
   ]
  },
  {
   "cell_type": "code",
   "execution_count": null,
   "metadata": {},
   "outputs": [],
   "source": [
    "5\n",
    "12\n",
    "add world \n",
    "add HellO \n",
    "check 4 \n",
    "find World \n",
    "find world \n",
    "del world \n",
    "check 4 \n",
    "del HellO \n",
    "add luck \n",
    "add GooD \n",
    "check 2 \n",
    "del good"
   ]
  },
  {
   "cell_type": "code",
   "execution_count": null,
   "metadata": {},
   "outputs": [],
   "source": [
    "int(\"Mom\")"
   ]
  },
  {
   "cell_type": "code",
   "execution_count": null,
   "metadata": {},
   "outputs": [],
   "source": [
    "ord(\"Mom\")"
   ]
  },
  {
   "cell_type": "code",
   "execution_count": null,
   "metadata": {},
   "outputs": [],
   "source": [
    "1 == True"
   ]
  },
  {
   "cell_type": "code",
   "execution_count": null,
   "metadata": {},
   "outputs": [],
   "source": [
    "if 1: print(True)"
   ]
  },
  {
   "cell_type": "code",
   "execution_count": null,
   "metadata": {},
   "outputs": [],
   "source": [
    "int()"
   ]
  },
  {
   "cell_type": "code",
   "execution_count": null,
   "metadata": {},
   "outputs": [],
   "source": [
    "0 == True"
   ]
  },
  {
   "cell_type": "code",
   "execution_count": null,
   "metadata": {},
   "outputs": [],
   "source": [
    "-2%5"
   ]
  },
  {
   "cell_type": "code",
   "execution_count": null,
   "metadata": {},
   "outputs": [],
   "source": [
    "3%5"
   ]
  },
  {
   "cell_type": "code",
   "execution_count": null,
   "metadata": {},
   "outputs": [],
   "source": []
  }
 ],
 "metadata": {
  "kernelspec": {
   "display_name": "Python [default]",
   "language": "python",
   "name": "python3"
  },
  "language_info": {
   "codemirror_mode": {
    "name": "ipython",
    "version": 3
   },
   "file_extension": ".py",
   "mimetype": "text/x-python",
   "name": "python",
   "nbconvert_exporter": "python",
   "pygments_lexer": "ipython3",
   "version": "3.5.4"
  }
 },
 "nbformat": 4,
 "nbformat_minor": 2
}
