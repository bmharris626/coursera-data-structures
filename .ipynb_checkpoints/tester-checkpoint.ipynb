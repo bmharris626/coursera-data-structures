{
 "cells": [
  {
   "cell_type": "code",
   "execution_count": 275,
   "metadata": {},
   "outputs": [],
   "source": [
    "class TreeHeight:\n",
    "    \n",
    "    def __init__(self, parent):\n",
    "        self.parent = parent\n",
    "        self.n = len(parent)\n",
    "        self.depths = [None for i in range(self.n)]\n",
    "\n",
    "    def compute_height_naive(self):\n",
    "        maxHeight = 0\n",
    "        for vertex in range(self.n):\n",
    "            height = 0\n",
    "            i = vertex\n",
    "            while i != -1:\n",
    "                height += 1\n",
    "                i = self.parent[i]\n",
    "            maxHeight = max(maxHeight, height)\n",
    "        return maxHeight\n",
    "\n",
    "    def node_height(self, node):\n",
    "        parent = self.parent[node]\n",
    "        self.depths[node] = self.depths[parent] + 1\n",
    "        children = self.children[node]\n",
    "        if children:\n",
    "            for child in children:\n",
    "                self.node_height(child) \n",
    "    \n",
    "    def compute_height(self):\n",
    "        nodes = [list() for i in range(self.n)]\n",
    "        for child_index in range(self.n):\n",
    "            parent_index = self.parent[child_index]\n",
    "            if parent_index == -1: self.root = child_index\n",
    "            else: nodes[parent_index].append(child_index)\n",
    "        self.children = nodes\n",
    "        self.depths[self.root] = 1\n",
    "        max_height = 0\n",
    "        for child in self.children[self.root]:\n",
    "            self.node_height(child)\n",
    "        return max(self.depths)       "
   ]
  },
  {
   "cell_type": "code",
   "execution_count": 276,
   "metadata": {},
   "outputs": [],
   "source": [
    "tree = TreeHeight([9, 7, 5, 5, 2, 9, 9, 9, 2, -1])"
   ]
  },
  {
   "cell_type": "code",
   "execution_count": 277,
   "metadata": {},
   "outputs": [
    {
     "name": "stdout",
     "output_type": "stream",
     "text": [
      "Wall time: 0 ns\n"
     ]
    },
    {
     "data": {
      "text/plain": [
       "4"
      ]
     },
     "execution_count": 277,
     "metadata": {},
     "output_type": "execute_result"
    }
   ],
   "source": [
    "%time tree.compute_height_naive()"
   ]
  },
  {
   "cell_type": "code",
   "execution_count": 278,
   "metadata": {},
   "outputs": [
    {
     "name": "stdout",
     "output_type": "stream",
     "text": [
      "Wall time: 0 ns\n"
     ]
    },
    {
     "data": {
      "text/plain": [
       "4"
      ]
     },
     "execution_count": 278,
     "metadata": {},
     "output_type": "execute_result"
    }
   ],
   "source": [
    "%time tree.compute_height()"
   ]
  },
  {
   "cell_type": "code",
   "execution_count": 210,
   "metadata": {},
   "outputs": [],
   "source": [
    "def LevelTraversal(tree):\n",
    "    if not tree: return\n",
    "    n = len(tree)\n",
    "    q = Queue(n)\n",
    "    for node in tree: q.put(node)\n",
    "    while not q.empty():\n",
    "        node = q.get()\n",
    "        "
   ]
  }
 ],
 "metadata": {
  "kernelspec": {
   "display_name": "Python [default]",
   "language": "python",
   "name": "python3"
  },
  "language_info": {
   "codemirror_mode": {
    "name": "ipython",
    "version": 3
   },
   "file_extension": ".py",
   "mimetype": "text/x-python",
   "name": "python",
   "nbconvert_exporter": "python",
   "pygments_lexer": "ipython3",
   "version": "3.5.3"
  }
 },
 "nbformat": 4,
 "nbformat_minor": 2
}
