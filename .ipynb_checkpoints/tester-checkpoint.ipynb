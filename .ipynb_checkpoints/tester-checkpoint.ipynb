{
 "cells": [
  {
   "cell_type": "code",
   "execution_count": 13,
   "metadata": {},
   "outputs": [
    {
     "name": "stdout",
     "output_type": "stream",
     "text": [
      "2 2\n",
      "0 1\n",
      "0 1\n",
      "2 []\n",
      "2 [1]\n",
      "0\n",
      "1\n"
     ]
    }
   ],
   "source": [
    "# python3\n",
    "\n",
    "class Request:\n",
    "    def __init__(self, arrival_time, process_time):\n",
    "        self.arrival_time = arrival_time\n",
    "        self.process_time = process_time\n",
    "\n",
    "class Response:\n",
    "    def __init__(self, dropped, start_time):\n",
    "        self.dropped = dropped\n",
    "        self.start_time = start_time\n",
    "\n",
    "class Buffer:\n",
    "    def __init__(self, size):\n",
    "        self.size = size\n",
    "        self.finish_time_ = []\n",
    "\n",
    "    def Process(self, request):\n",
    "#         print(self.size, self.finish_time_)\n",
    "        while (len(self.finish_time_) > 0) and (request.arrival_time >= self.finish_time_[0]):\n",
    "            self.finish_time_.pop(0)\n",
    "        if len(self.finish_time_) == 0: \n",
    "            self.finish_time_.append(request.arrival_time + request.process_time)\n",
    "            return Response(False, request.arrival_time)\n",
    "        elif len(self.finish_time_) < self.size:\n",
    "            start_time = self.finish_time_[-1]\n",
    "            self.finish_time_.append(start_time + request.process_time)\n",
    "            return Response(False, start_time)\n",
    "        return Response(True, -1)\n",
    "\n",
    "def ReadRequests(count):\n",
    "    requests = []\n",
    "    for i in range(count):\n",
    "        arrival_time, process_time = map(int, input().strip().split())\n",
    "        requests.append(Request(arrival_time, process_time))\n",
    "    return requests\n",
    "\n",
    "def ProcessRequests(requests, buffer):\n",
    "    responses = []\n",
    "    for request in requests:\n",
    "        responses.append(buffer.Process(request))\n",
    "    return responses\n",
    "\n",
    "def PrintResponses(responses):\n",
    "    for response in responses:\n",
    "        print(response.start_time if not response.dropped else -1)\n",
    "\n",
    "if __name__ == \"__main__\":\n",
    "    size, count = map(int, input().strip().split())\n",
    "    requests = ReadRequests(count)\n",
    "\n",
    "    buffer = Buffer(size)\n",
    "    responses = ProcessRequests(requests, buffer)\n",
    "\n",
    "    PrintResponses(responses)"
   ]
  },
  {
   "cell_type": "code",
   "execution_count": null,
   "metadata": {},
   "outputs": [],
   "source": []
  }
 ],
 "metadata": {
  "kernelspec": {
   "display_name": "Python [default]",
   "language": "python",
   "name": "python3"
  },
  "language_info": {
   "codemirror_mode": {
    "name": "ipython",
    "version": 3
   },
   "file_extension": ".py",
   "mimetype": "text/x-python",
   "name": "python",
   "nbconvert_exporter": "python",
   "pygments_lexer": "ipython3",
   "version": "3.5.4"
  }
 },
 "nbformat": 4,
 "nbformat_minor": 2
}
