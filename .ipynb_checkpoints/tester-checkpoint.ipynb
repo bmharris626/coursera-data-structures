{
 "cells": [
  {
   "cell_type": "code",
   "execution_count": 132,
   "metadata": {},
   "outputs": [],
   "source": [
    "# python3\n",
    "\n",
    "class Heap:\n",
    "    \n",
    "    def buildHeap(self):\n",
    "        for i in range(self.size//2, -1, -1):\n",
    "            self.siftDown(i)\n",
    "    \n",
    "    def __init__(self, array = list()):\n",
    "        self.h = array\n",
    "        self.size = len(array)\n",
    "        self.buildHeap()\n",
    "            \n",
    "    def parent(self, i):\n",
    "        return (i-1)//2\n",
    "    \n",
    "    def leftChild(self, i):\n",
    "        return 2*i + 1\n",
    "    \n",
    "    def rightChild(self, i):\n",
    "        return 2*i + 2\n",
    "    \n",
    "    def siftUp(self, i):\n",
    "        while (\n",
    "            (i > 0) and (\n",
    "                (self.h[self.parent(i)][1] > self.h[i][1]) or (\n",
    "                    (self.h[self.parent(i)][1] == self.h[i][1]) and \n",
    "                    (self.h[self.parent(i)][0] > self.h[i][0])\n",
    "            ))):\n",
    "            self.h[self.parent(i)], self.h[i] = self.h[i], self.h[self.parent(i)]\n",
    "            i = self.parent(i)\n",
    "            \n",
    "    def siftDown(self, i):\n",
    "        maxIndex = i\n",
    "        l = self.leftChild(i)\n",
    "        if (\n",
    "            (l < self.size) and (\n",
    "                (self.h[l][1] < self.h[maxIndex][1]) or (\n",
    "                    (self.h[l][1] == self.h[maxIndex][1]) and \n",
    "                    (self.h[l][0] < self.h[maxIndex][0])\n",
    "            ))): maxIndex = l\n",
    "        r = self.rightChild(i)\n",
    "        if (\n",
    "            (r < self.size) and (\n",
    "                (self.h[r][1] < self.h[maxIndex][1]) or (\n",
    "                    (self.h[r][1] == self.h[maxIndex][1]) and \n",
    "                    (self.h[r][0] < self.h[maxIndex][0])\n",
    "            ))): maxIndex = r\n",
    "        if i != maxIndex:\n",
    "            self.h[i], self.h[maxIndex] = self.h[maxIndex], self.h[i]\n",
    "            self.siftDown(maxIndex)\n",
    "            \n",
    "    def insert(self, p):\n",
    "        self.size += 1\n",
    "        self.h.append(p)\n",
    "        self.siftUp(len(self.h)-1)\n",
    "        \n",
    "    def extractMin(self):\n",
    "        self.h[0], self.h[self.size-1] = self.h[self.size-1], self.h[0]\n",
    "        result = self.h.pop()\n",
    "        self.size -= 1\n",
    "        if self.size > 0:\n",
    "            self.siftDown(0)\n",
    "        return result"
   ]
  },
  {
   "cell_type": "code",
   "execution_count": 134,
   "metadata": {},
   "outputs": [
    {
     "name": "stdout",
     "output_type": "stream",
     "text": [
      "5 9\n",
      "982 63 382 602 365 819 387 626 688\n",
      "[]\n",
      "[(1, 63), (4, 365), (2, 382), (0, 982), (3, 602)]\n",
      "[(4, 365), (3, 602), (2, 382), (0, 982), (1, 882)]\n",
      "[(2, 382), (3, 602), (1, 882), (0, 982), (4, 752)]\n",
      "[(3, 602), (4, 752), (1, 882), (0, 982), (2, 1008)]\n",
      "[(4, 752), (0, 982), (1, 882), (2, 1008), (3, 1290)]\n",
      "0 0\n",
      "1 0\n",
      "2 0\n",
      "3 0\n",
      "4 0\n",
      "1 63\n",
      "4 365\n",
      "2 382\n",
      "3 602\n"
     ]
    }
   ],
   "source": [
    "class JobQueue:\n",
    "    def read_data(self):\n",
    "        self.num_workers, m = map(int, input().split())\n",
    "        self.jobs = list(map(int, input().split()))\n",
    "        self.n = len(self.jobs)\n",
    "        assert m == len(self.jobs)\n",
    "\n",
    "    def write_response(self):\n",
    "        for i in range(self.n):\n",
    "            print(self.assigned_workers[i], self.start_times[i]) \n",
    "\n",
    "    def assign_jobs(self):\n",
    "        self.assigned_workers = list()\n",
    "        self.start_times = list()\n",
    "        threads = Heap([])\n",
    "        i = 0\n",
    "        print(threads.h)\n",
    "        while (i < self.num_workers) and (len(self.jobs) > 0):\n",
    "            self.assigned_workers.append(i)\n",
    "            self.start_times.append(0)\n",
    "            t = self.jobs.pop(0)\n",
    "            if t > 0: \n",
    "                threads.insert((i, t))\n",
    "                i += 1\n",
    "        print(threads.h)\n",
    "        for i in range(len(self.jobs)):\n",
    "            mn = threads.extractMin()\n",
    "            self.assigned_workers.append(mn[0])\n",
    "            self.start_times.append(mn[1])\n",
    "            threads.insert((mn[0], mn[1] + self.jobs.pop(0)))\n",
    "            print(threads.h)\n",
    "            \n",
    "    def solve(self):\n",
    "        self.read_data()\n",
    "        self.assign_jobs()\n",
    "        self.write_response()\n",
    "\n",
    "if __name__ == '__main__':\n",
    "    job_queue = JobQueue()\n",
    "    job_queue.solve()"
   ]
  },
  {
   "cell_type": "code",
   "execution_count": 135,
   "metadata": {
    "collapsed": true
   },
   "outputs": [],
   "source": [
    "def assign_jobs(num_workers, jobs):\n",
    "    assigned_workers = list()\n",
    "    start_times = list()\n",
    "    threads = Heap([])\n",
    "    i = 0\n",
    "    while (i < num_workers) and (len(jobs) > 0):\n",
    "        assigned_workers.append(i)\n",
    "        start_times.append(0)\n",
    "        t = jobs.pop(0)\n",
    "        if t > 0: \n",
    "            threads.insert((i, t))\n",
    "            i += 1\n",
    "    for i in range(len(jobs)):\n",
    "        mn = threads.extractMin()\n",
    "        assigned_workers.append(mn[0])\n",
    "        start_times.append(mn[1])\n",
    "        threads.insert((mn[0], mn[1] + jobs.pop(0)))\n",
    "    return list(zip(assigned_workers, start_times))"
   ]
  },
  {
   "cell_type": "code",
   "execution_count": 136,
   "metadata": {
    "collapsed": true
   },
   "outputs": [],
   "source": [
    "def naive_assign_jobs(num_workers, jobs):\n",
    "    # TODO: replace this code with a faster algorithm.\n",
    "    assigned_workers = [None] * len(jobs)\n",
    "    start_times = [None] * len(jobs)\n",
    "    next_free_time = [0] * num_workers\n",
    "    for i in range(len(jobs)):\n",
    "        next_worker = 0\n",
    "        for j in range(num_workers):\n",
    "            if next_free_time[j] < next_free_time[next_worker]:\n",
    "                next_worker = j\n",
    "        assigned_workers[i] = next_worker\n",
    "        start_times[i] = next_free_time[next_worker]\n",
    "        next_free_time[next_worker] += jobs[i]\n",
    "    return list(zip(assigned_workers, start_times))"
   ]
  },
  {
   "cell_type": "code",
   "execution_count": 137,
   "metadata": {},
   "outputs": [],
   "source": [
    "from random import randint"
   ]
  },
  {
   "cell_type": "code",
   "execution_count": 139,
   "metadata": {},
   "outputs": [],
   "source": [
    "for j in range(100):\n",
    "    n = randint(1, 100)\n",
    "    m = randint(1, 100)\n",
    "    j = [randint(0, 1000) for i in range(m)]\n",
    "    naive = naive_assign_jobs(n, j.copy())\n",
    "    opt = assign_jobs(n, j.copy())\n",
    "    if naive != opt:\n",
    "#         print(m, j)\n",
    "        print(n, m, j)\n",
    "        for i, n1 in enumerate(naive):\n",
    "            print(i, j[i], n1, opt[i])\n",
    "#             if n1 != opt[i]: print(i, n1, opt[i])\n",
    "            if n1 != opt[i]: print()\n",
    "        break"
   ]
  },
  {
   "cell_type": "code",
   "execution_count": null,
   "metadata": {
    "collapsed": true
   },
   "outputs": [],
   "source": []
  },
  {
   "cell_type": "code",
   "execution_count": null,
   "metadata": {
    "collapsed": true
   },
   "outputs": [],
   "source": []
  }
 ],
 "metadata": {
  "kernelspec": {
   "display_name": "Python 3",
   "language": "python",
   "name": "python3"
  },
  "language_info": {
   "codemirror_mode": {
    "name": "ipython",
    "version": 3
   },
   "file_extension": ".py",
   "mimetype": "text/x-python",
   "name": "python",
   "nbconvert_exporter": "python",
   "pygments_lexer": "ipython3",
   "version": "3.5.4"
  }
 },
 "nbformat": 4,
 "nbformat_minor": 2
}
